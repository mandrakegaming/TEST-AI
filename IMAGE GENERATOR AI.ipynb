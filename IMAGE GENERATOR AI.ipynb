{
  "cells": [
    {
      "cell_type": "markdown",
      "metadata": {
        "id": "view-in-github",
        "colab_type": "text"
      },
      "source": [
        "<a href=\"https://colab.research.google.com/github/mandrakegaming/TEST-AI/blob/main/IMAGE%20GENERATOR%20AI.ipynb\" target=\"_parent\"><img src=\"https://colab.research.google.com/assets/colab-badge.svg\" alt=\"Open In Colab\"/></a>"
      ]
    },
    {
      "cell_type": "code",
      "execution_count": null,
      "metadata": {
        "id": "VjYy0F2gZIPR"
      },
      "outputs": [],
      "source": [
        "!pip install pygit2==1.12.2\n",
        "%cd /content\n",
        "!git clone https://github.com/lllyasviel/Fooocus.git\n",
        "%cd /content/Fooocus\n",
        "!python entry_with_update.py --share --always-high-vram --preset anime\n"
      ]
    },
    {
      "cell_type": "code",
      "source": [
        "from google.colab import drive\n",
        "drive.flush_and_unmount()"
      ],
      "metadata": {
        "id": "HXdPcZnq-ajE"
      },
      "execution_count": null,
      "outputs": []
    },
    {
      "cell_type": "code",
      "source": [
        "%cp \"/content/drive/MyDrive/AI/(N)SFW Filter  Slider  Tool LoRA XL.safetensors\" \"/content/Fooocus/models/loras\"\n",
        "%cp \"/content/drive/MyDrive/AI/Better Faces LoRA $$4ng3l face, black hair, blonde hair, brown hair, red hair, auburn hair, ginger hair, white hair (1).safetensors\" \"/content/Fooocus/models/loras\"\n",
        "%cp \"/content/drive/MyDrive/AI/Better_expressionsH-LORA $$ExpressiveH.safetensors\" \"/content/Fooocus/models/loras\"\n",
        "%cp \"/content/drive/MyDrive/AI/Cute Anime Feet and Soles $$Soles, Feet to viewer,foot focus, presenting feet, toenail polish,toes, toeless legwear 0.6-0.9.safetensors\" \"/content/Fooocus/models/loras\"\n",
        "%cp \"/content/drive/MyDrive/AI/Feet Pose (anime) $$1girl, sitting, feet up, soles, 0.6-0.8.safetensors\" \"/content/Fooocus/models/loras\"\n",
        "%cp \"/content/drive/MyDrive/AI/Lesbian Face Riding $$.safetensors\" \"/content/Fooocus/models/loras\"\n",
        "%cp \"/content/drive/MyDrive/AI/PLASTT.safetensors\" \"/content/Fooocus/models/loras\"\n",
        "%cp \"/content/drive/MyDrive/AI/Sexy Feet (Sitting)  玉足 $$show feet，Sole of foot，sitting，cross leg 0.7-0.9.safetensors\" \"/content/Fooocus/models/loras\"\n",
        "%cp \"/content/drive/MyDrive/AI/Pussy adjuster XL animagine $$sprad pussy 1-1.2.safetensors\" \"/content/Fooocus/models/loras\"\n",
        "%cp \"/content/drive/MyDrive/AI/feet_anime_xl_v1.safetensors\" \"/content/Fooocus/models/loras\""
      ],
      "metadata": {
        "id": "LO0FBHBe-2fp"
      },
      "execution_count": null,
      "outputs": []
    }
  ],
  "metadata": {
    "accelerator": "GPU",
    "colab": {
      "gpuType": "T4",
      "provenance": [],
      "include_colab_link": true
    },
    "kernelspec": {
      "display_name": "Python 3",
      "name": "python3"
    },
    "language_info": {
      "name": "python"
    }
  },
  "nbformat": 4,
  "nbformat_minor": 0
}